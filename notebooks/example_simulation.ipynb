{
 "cells": [
  {
   "cell_type": "markdown",
   "metadata": {},
   "source": [
    "# Example Model Simulation\n",
    "\n",
    "This notebook demonstrates how to use the model simulator to generate and analyze data."
   ]
  },
  {
   "cell_type": "code",
   "execution_count": null,
   "metadata": {},
   "outputs": [],
   "source": [
    "import sys\n",
    "import os\n",
    "import numpy as np\n",
    "import pandas as pd\n",
    "import matplotlib.pyplot as plt\n",
    "import seaborn as sns\n",
    "\n",
    "# Add the project directory to the path so we can import modules\n",
    "sys.path.append(os.path.abspath('..'))\n",
    "\n",
    "from src.models.simulator import ModelSimulator\n",
    "from src.utils.helpers import plot_distribution, describe_with_percentiles\n",
    "\n",
    "# Set plot style\n",
    "sns.set(style='whitegrid')\n",
    "plt.rcParams['figure.figsize'] = (12, 8)"
   ]
  },
  {
   "cell_type": "markdown",
   "metadata": {},
   "source": [
    "## Linear Model Simulation"
   ]
  },
  {
   "cell_type": "code",
   "execution_count": null,
   "metadata": {},
   "outputs": [],
   "source": [
    "# Initialize simulator with random seed for reproducibility\n",
    "simulator = ModelSimulator(random_seed=42)\n",
    "\n",
    "# Generate data from a linear model\n",
    "X, y = simulator.generate_linear_data(n_samples=1000, n_features=3, noise=0.5)\n",
    "\n",
    "# Create a DataFrame for easier analysis\n",
    "data = pd.DataFrame(X, columns=[f'feature_{i}' for i in range(X.shape[1])])\n",
    "data['target'] = y\n",
    "\n",
    "# Display the first few rows\n",
    "data.head()"
   ]
  },
  {
   "cell_type": "code",
   "execution_count": null,
   "metadata": {},
   "outputs": [],
   "source": [
    "# Analyze the generated data\n",
    "describe_with_percentiles(data)"
   ]
  },
  {
   "cell_type": "code",
   "execution_count": null,
   "metadata": {},
   "outputs": [],
   "source": [
    "# Visualize the target distribution\n",
    "plot_distribution(data['target'], title='Target Distribution')"
   ]
  },
  {
   "cell_type": "code",
   "execution_count": null,
   "metadata": {},
   "outputs": [],
   "source": [
    "# Pairplot to visualize relationships between variables\n",
    "sns.pairplot(data, height=2.5)\n",
    "plt.tight_layout()"
   ]
  },
  {
   "cell_type": "markdown",
   "metadata": {},
   "source": [
    "## Time Series Simulation"
   ]
  },
  {
   "cell_type": "code",
   "execution_count": null,
   "metadata": {},
   "outputs": [],
   "source": [
    "# Generate a time series with trend, seasonality, and noise\n",
    "time_series = simulator.generate_time_series(\n",
    "    n_points=730,  # 2 years of daily data\n",
    "    trend=0.02,\n",
    "    seasonality_amplitude=5.0,\n",
    "    seasonality_period=365,\n",
    "    noise=1.0\n",
    ")\n",
    "\n",
    "# Display the first few values\n",
    "time_series.head()"
   ]
  },
  {
   "cell_type": "code",
   "execution_count": null,
   "metadata": {},
   "outputs": [],
   "source": [
    "# Plot the time series\n",
    "plt.figure(figsize=(14, 6))\n",
    "time_series.plot()\n",
    "plt.title('Simulated Time Series with Trend and Seasonality')\n",
    "plt.xlabel('Date')\n",
    "plt.ylabel('Value')\n",
    "plt.grid(alpha=0.3)\n",
    "plt.show()"
   ]
  },
  {
   "cell_type": "code",
   "execution_count": null,
   "metadata": {},
   "outputs": [],
   "source": [
    "# Monthly averages to see seasonal patterns more clearly\n",
    "monthly_avg = time_series.resample('M').mean()\n",
    "\n",
    "plt.figure(figsize=(14, 6))\n",
    "monthly_avg.plot(marker='o')\n",
    "plt.title('Monthly Average Values')\n",
    "plt.xlabel('Date')\n",
    "plt.ylabel('Value')\n",
    "plt.grid(alpha=0.3)\n",
    "plt.show()"
   ]
  }
 ],
 "metadata": {
  "kernelspec": {
   "display_name": "Python 3",
   "language": "python",
   "name": "python3"
  },
  "language_info": {
   "codemirror_mode": {
    "name": "ipython",
    "version": 3
   },
   "file_extension": ".py",
   "mimetype": "text/x-python",
   "name": "python",
   "nbconvert_exporter": "python",
   "pygments_lexer": "ipython3",
   "version": "3.8.5"
  }
 },
 "nbformat": 4,
 "nbformat_minor": 4
}